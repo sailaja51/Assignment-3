{
 "cells": [
  {
   "cell_type": "markdown",
   "id": "8417c0f4",
   "metadata": {},
   "source": [
    "# Write a Python function to sum all the numbers in a list.\n",
    "\n"
   ]
  },
  {
   "cell_type": "code",
   "execution_count": 1,
   "id": "ba423075",
   "metadata": {},
   "outputs": [],
   "source": [
    "# Method 1"
   ]
  },
  {
   "cell_type": "code",
   "execution_count": 2,
   "id": "0f027d68",
   "metadata": {},
   "outputs": [],
   "source": [
    "def adder(a,b,c,d,e):\n",
    "    s = a+b+c+d+e\n",
    "    return s"
   ]
  },
  {
   "cell_type": "code",
   "execution_count": 3,
   "id": "1e358cd6",
   "metadata": {},
   "outputs": [
    {
     "data": {
      "text/plain": [
       "20"
      ]
     },
     "execution_count": 3,
     "metadata": {},
     "output_type": "execute_result"
    }
   ],
   "source": [
    "adder(8,2,3,0,7)"
   ]
  },
  {
   "cell_type": "code",
   "execution_count": 4,
   "id": "18d6c91e",
   "metadata": {},
   "outputs": [],
   "source": [
    "# Method 2"
   ]
  },
  {
   "cell_type": "code",
   "execution_count": 5,
   "id": "8079433a",
   "metadata": {},
   "outputs": [],
   "source": [
    "def adder(seq):\n",
    "    return sum(seq)"
   ]
  },
  {
   "cell_type": "code",
   "execution_count": 6,
   "id": "bb8aa9f9",
   "metadata": {},
   "outputs": [
    {
     "data": {
      "text/plain": [
       "20"
      ]
     },
     "execution_count": 6,
     "metadata": {},
     "output_type": "execute_result"
    }
   ],
   "source": [
    "adder([8,2,3,0,7])"
   ]
  },
  {
   "cell_type": "code",
   "execution_count": null,
   "id": "058f1031",
   "metadata": {},
   "outputs": [],
   "source": []
  }
 ],
 "metadata": {
  "kernelspec": {
   "display_name": "Python 3 (ipykernel)",
   "language": "python",
   "name": "python3"
  },
  "language_info": {
   "codemirror_mode": {
    "name": "ipython",
    "version": 3
   },
   "file_extension": ".py",
   "mimetype": "text/x-python",
   "name": "python",
   "nbconvert_exporter": "python",
   "pygments_lexer": "ipython3",
   "version": "3.9.5"
  }
 },
 "nbformat": 4,
 "nbformat_minor": 5
}
