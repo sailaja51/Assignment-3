{
 "cells": [
  {
   "cell_type": "markdown",
   "id": "89c0906e",
   "metadata": {},
   "source": [
    "# Write a Python function that accepts a string and calculate the number of upper case letters and lower case letters."
   ]
  },
  {
   "cell_type": "code",
   "execution_count": 7,
   "id": "3a708944",
   "metadata": {},
   "outputs": [],
   "source": [
    "def casecal(string):\n",
    "    u = 0\n",
    "    l = 0\n",
    "    string = string.replace(' ','')\n",
    "    for char in string:\n",
    "        if char.isupper():\n",
    "            u +=1\n",
    "        else:\n",
    "            l +=1\n",
    "    print('No.of upper case letters :',u)\n",
    "    print('No.of lower case letters :',l)"
   ]
  },
  {
   "cell_type": "code",
   "execution_count": 8,
   "id": "0b903c53",
   "metadata": {},
   "outputs": [
    {
     "name": "stdout",
     "output_type": "stream",
     "text": [
      "No.of upper case letters : 3\n",
      "No.of lower case letters : 12\n"
     ]
    }
   ],
   "source": [
    "s = 'The quick Brow Fox'\n",
    "casecal(s)"
   ]
  },
  {
   "cell_type": "code",
   "execution_count": null,
   "id": "fc6e0e86",
   "metadata": {},
   "outputs": [],
   "source": []
  }
 ],
 "metadata": {
  "kernelspec": {
   "display_name": "Python 3 (ipykernel)",
   "language": "python",
   "name": "python3"
  },
  "language_info": {
   "codemirror_mode": {
    "name": "ipython",
    "version": 3
   },
   "file_extension": ".py",
   "mimetype": "text/x-python",
   "name": "python",
   "nbconvert_exporter": "python",
   "pygments_lexer": "ipython3",
   "version": "3.9.5"
  }
 },
 "nbformat": 4,
 "nbformat_minor": 5
}
