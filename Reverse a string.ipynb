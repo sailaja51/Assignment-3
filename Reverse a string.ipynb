{
 "cells": [
  {
   "cell_type": "markdown",
   "id": "9fca95de",
   "metadata": {},
   "source": [
    "# Write a Python program to reverse a string."
   ]
  },
  {
   "cell_type": "code",
   "execution_count": 1,
   "id": "c95e75de",
   "metadata": {},
   "outputs": [],
   "source": [
    "# Methd 1"
   ]
  },
  {
   "cell_type": "code",
   "execution_count": 2,
   "id": "0069de4a",
   "metadata": {},
   "outputs": [],
   "source": [
    "def reverse(s):\n",
    "    str = \"\"\n",
    "    for i in s:\n",
    "        str = i + str\n",
    "    return str"
   ]
  },
  {
   "cell_type": "code",
   "execution_count": 3,
   "id": "55d46909",
   "metadata": {},
   "outputs": [],
   "source": [
    "s = \"abcd1234\""
   ]
  },
  {
   "cell_type": "code",
   "execution_count": 4,
   "id": "70de8389",
   "metadata": {},
   "outputs": [
    {
     "name": "stdout",
     "output_type": "stream",
     "text": [
      "sample string:\n",
      "abcd1234\n",
      "reversed string(using loops):\n",
      "4321dcba\n"
     ]
    }
   ],
   "source": [
    "print(\"sample string:\")\n",
    "print(s)\n",
    "print(\"reversed string(using loops):\")\n",
    "print(reverse(s))"
   ]
  },
  {
   "cell_type": "code",
   "execution_count": 5,
   "id": "8be28f64",
   "metadata": {},
   "outputs": [],
   "source": [
    "# Method 2"
   ]
  },
  {
   "cell_type": "code",
   "execution_count": 6,
   "id": "cb640151",
   "metadata": {},
   "outputs": [],
   "source": [
    "def reverse(string):\n",
    "    string = string[::-1]\n",
    "    return string"
   ]
  },
  {
   "cell_type": "code",
   "execution_count": 7,
   "id": "cc7bfe37",
   "metadata": {},
   "outputs": [],
   "source": [
    "s = \"abcd1234\""
   ]
  },
  {
   "cell_type": "code",
   "execution_count": 8,
   "id": "0fb6d726",
   "metadata": {},
   "outputs": [
    {
     "name": "stdout",
     "output_type": "stream",
     "text": [
      "sample string:\n",
      "abcd1234\n",
      "reversed string(using slicing):\n",
      "4321dcba\n"
     ]
    }
   ],
   "source": [
    "print(\"sample string:\")\n",
    "print(s)\n",
    "print(\"reversed string(using slicing):\")\n",
    "print(reverse(s))"
   ]
  },
  {
   "cell_type": "code",
   "execution_count": null,
   "id": "1f979ec9",
   "metadata": {},
   "outputs": [],
   "source": []
  }
 ],
 "metadata": {
  "kernelspec": {
   "display_name": "Python 3 (ipykernel)",
   "language": "python",
   "name": "python3"
  },
  "language_info": {
   "codemirror_mode": {
    "name": "ipython",
    "version": 3
   },
   "file_extension": ".py",
   "mimetype": "text/x-python",
   "name": "python",
   "nbconvert_exporter": "python",
   "pygments_lexer": "ipython3",
   "version": "3.9.5"
  }
 },
 "nbformat": 4,
 "nbformat_minor": 5
}
